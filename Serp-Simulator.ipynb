{
 "cells": [
  {
   "cell_type": "code",
   "execution_count": 2,
   "id": "c63d0284",
   "metadata": {},
   "outputs": [
    {
     "data": {
      "application/vnd.jupyter.widget-view+json": {
       "model_id": "dff419d274114dce8928333c64d3c220",
       "version_major": 2,
       "version_minor": 0
      },
      "text/plain": [
       "Text(value='', description='Title:', placeholder='Enter the title here')"
      ]
     },
     "metadata": {},
     "output_type": "display_data"
    },
    {
     "data": {
      "application/vnd.jupyter.widget-view+json": {
       "model_id": "a887ef373e7f4b5cb37210e6b21503c6",
       "version_major": 2,
       "version_minor": 0
      },
      "text/plain": [
       "Textarea(value='', description='Description:', placeholder='Enter the description here')"
      ]
     },
     "metadata": {},
     "output_type": "display_data"
    },
    {
     "data": {
      "application/vnd.jupyter.widget-view+json": {
       "model_id": "ac3bae21a7a447b4b409739d9eb3b6c0",
       "version_major": 2,
       "version_minor": 0
      },
      "text/plain": [
       "Text(value='', description='URL:', placeholder='Enter the URL here')"
      ]
     },
     "metadata": {},
     "output_type": "display_data"
    },
    {
     "data": {
      "application/vnd.jupyter.widget-view+json": {
       "model_id": "aaa3cb042e1b407d9af82c7e2e6634cb",
       "version_major": 2,
       "version_minor": 0
      },
      "text/plain": [
       "Button(description='Simulate SERP', style=ButtonStyle())"
      ]
     },
     "metadata": {},
     "output_type": "display_data"
    },
    {
     "data": {
      "application/vnd.jupyter.widget-view+json": {
       "model_id": "a4f55b3d07714e96ae29b8ef18e7fdcc",
       "version_major": 2,
       "version_minor": 0
      },
      "text/plain": [
       "Output()"
      ]
     },
     "metadata": {},
     "output_type": "display_data"
    }
   ],
   "source": [
    "import textwrap\n",
    "from IPython.display import display, HTML\n",
    "import ipywidgets as widgets\n",
    "\n",
    "def serp_simulator(title, description, url):\n",
    "    title_length = 60\n",
    "    description_length = 160\n",
    "\n",
    "    wrapped_title = textwrap.shorten(title, width=title_length, placeholder=\"...\")\n",
    "    wrapped_description = textwrap.shorten(description, width=description_length, placeholder=\"...\")\n",
    "\n",
    "    serp_html = f\"\"\"\n",
    "    <div style=\"font-family: Arial, sans-serif; margin: 20px; border: 1px solid #dfe1e5; border-radius: 8px; padding: 16px; width: 600px;\">\n",
    "        <div style=\"color: #1a0dab; font-size: 18px; font-weight: normal; text-decoration: none;\">{wrapped_title}</div>\n",
    "        <div style=\"color: #006621; font-size: 14px; margin-top: 4px;\">{url}</div>\n",
    "        <div style=\"color: #545454; font-size: 14px; margin-top: 8px;\">{wrapped_description}</div>\n",
    "    </div>\n",
    "    \"\"\"\n",
    "    display(HTML(serp_html))\n",
    "\n",
    "# Create the input widgets\n",
    "title_input = widgets.Text(\n",
    "    value='',\n",
    "    placeholder='Enter the title here',\n",
    "    description='Title:',\n",
    "    disabled=False\n",
    ")\n",
    "\n",
    "description_input = widgets.Textarea(\n",
    "    value='',\n",
    "    placeholder='Enter the description here',\n",
    "    description='Description:',\n",
    "    disabled=False\n",
    ")\n",
    "\n",
    "url_input = widgets.Text(\n",
    "    value='',\n",
    "    placeholder='Enter the URL here',\n",
    "    description='URL:',\n",
    "    disabled=False\n",
    ")\n",
    "\n",
    "button = widgets.Button(description=\"Simulate SERP\")\n",
    "output = widgets.Output()\n",
    "\n",
    "# Define what happens when the button is clicked\n",
    "def on_button_clicked(b):\n",
    "    with output:\n",
    "        output.clear_output()\n",
    "        serp_simulator(title_input.value, description_input.value, url_input.value)\n",
    "\n",
    "button.on_click(on_button_clicked)\n",
    "\n",
    "# Display the widgets\n",
    "display(title_input, description_input, url_input, button, output)\n",
    "\n"
   ]
  },
  {
   "cell_type": "code",
   "execution_count": null,
   "id": "8bd8b137",
   "metadata": {},
   "outputs": [],
   "source": []
  }
 ],
 "metadata": {
  "kernelspec": {
   "display_name": "Python 3 (ipykernel)",
   "language": "python",
   "name": "python3"
  },
  "language_info": {
   "codemirror_mode": {
    "name": "ipython",
    "version": 3
   },
   "file_extension": ".py",
   "mimetype": "text/x-python",
   "name": "python",
   "nbconvert_exporter": "python",
   "pygments_lexer": "ipython3",
   "version": "3.11.5"
  }
 },
 "nbformat": 4,
 "nbformat_minor": 5
}
