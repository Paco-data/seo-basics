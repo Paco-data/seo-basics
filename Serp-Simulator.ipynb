{
 "cells": [
  {
   "cell_type": "code",
   "execution_count": 2,
   "id": "019221b4",
   "metadata": {},
   "outputs": [
    {
     "data": {
      "application/vnd.jupyter.widget-view+json": {
       "model_id": "74bf788e95a64085a97a3a8b3b8abbef",
       "version_major": 2,
       "version_minor": 0
      },
      "text/plain": [
       "Text(value='', description='Title:', placeholder='Enter the title here')"
      ]
     },
     "metadata": {},
     "output_type": "display_data"
    },
    {
     "data": {
      "application/vnd.jupyter.widget-view+json": {
       "model_id": "e7498aee8abd4b33bab334f84161be21",
       "version_major": 2,
       "version_minor": 0
      },
      "text/plain": [
       "Textarea(value='', description='Description:', placeholder='Enter the description here')"
      ]
     },
     "metadata": {},
     "output_type": "display_data"
    },
    {
     "data": {
      "application/vnd.jupyter.widget-view+json": {
       "model_id": "9fa1bc6b2cb64c679b5461fae681c566",
       "version_major": 2,
       "version_minor": 0
      },
      "text/plain": [
       "Text(value='', description='URL:', placeholder='Enter the URL here')"
      ]
     },
     "metadata": {},
     "output_type": "display_data"
    },
    {
     "data": {
      "application/vnd.jupyter.widget-view+json": {
       "model_id": "d96577a0f6624a80a4f4da2f09647b1c",
       "version_major": 2,
       "version_minor": 0
      },
      "text/plain": [
       "Button(description='Simulate SERP', style=ButtonStyle())"
      ]
     },
     "metadata": {},
     "output_type": "display_data"
    },
    {
     "data": {
      "application/vnd.jupyter.widget-view+json": {
       "model_id": "455f3161151d46dfb3b0a3da0ac747f1",
       "version_major": 2,
       "version_minor": 0
      },
      "text/plain": [
       "Output()"
      ]
     },
     "metadata": {},
     "output_type": "display_data"
    }
   ],
   "source": [
    "import textwrap\n",
    "from IPython.display import display, HTML\n",
    "import ipywidgets as widgets\n",
    "\n",
    "def serp_simulator(title, description, url):\n",
    "    title_length = 60\n",
    "    description_length = 160\n",
    "\n",
    "    wrapped_title = textwrap.shorten(title, width=title_length, placeholder=\"...\")\n",
    "    wrapped_description = textwrap.shorten(description, width=description_length, placeholder=\"...\")\n",
    "\n",
    "    serp_html = f\"\"\"\n",
    "    <div style=\"font-family: Arial, sans-serif; margin: 20px; border: 1px solid #dfe1e5; border-radius: 8px; padding: 16px; width: 600px;\">\n",
    "        <div style=\"color: #1a0dab; font-size: 18px; font-weight: normal; text-decoration: none;\">{wrapped_title}</div>\n",
    "        <div style=\"color: #006621; font-size: 14px; margin-top: 4px;\">{url}</div>\n",
    "        <div style=\"color: #545454; font-size: 14px; margin-top: 8px;\">{wrapped_description}</div>\n",
    "    </div>\n",
    "    \"\"\"\n",
    "    display(HTML(serp_html))\n",
    "\n",
    "# Create the input widgets\n",
    "title_input = widgets.Text(\n",
    "    value='',\n",
    "    placeholder='Enter the title here',\n",
    "    description='Title:',\n",
    "    disabled=False\n",
    ")\n",
    "\n",
    "description_input = widgets.Textarea(\n",
    "    value='',\n",
    "    placeholder='Enter the description here',\n",
    "    description='Description:',\n",
    "    disabled=False\n",
    ")\n",
    "\n",
    "url_input = widgets.Text(\n",
    "    value='',\n",
    "    placeholder='Enter the URL here',\n",
    "    description='URL:',\n",
    "    disabled=False\n",
    ")\n",
    "\n",
    "button = widgets.Button(description=\"Simulate SERP\")\n",
    "output = widgets.Output()\n",
    "\n",
    "# Define what happens when the button is clicked\n",
    "def on_button_clicked(b):\n",
    "    with output:\n",
    "        output.clear_output()\n",
    "        serp_simulator(title_input.value, description_input.value, url_input.value)\n",
    "\n",
    "button.on_click(on_button_clicked)\n",
    "\n",
    "# Display the widgets\n",
    "display(title_input, description_input, url_input, button, output)\n",
    "\n"
   ]
  },
  {
   "cell_type": "code",
   "execution_count": 3,
   "id": "e72c1f7e",
   "metadata": {},
   "outputs": [
    {
     "data": {
      "application/vnd.jupyter.widget-view+json": {
       "model_id": "aed7ae7fd8224b46a3c72ccecef56fad",
       "version_major": 2,
       "version_minor": 0
      },
      "text/plain": [
       "Text(value='', description='Title:', placeholder='Enter the title here')"
      ]
     },
     "metadata": {},
     "output_type": "display_data"
    },
    {
     "data": {
      "application/vnd.jupyter.widget-view+json": {
       "model_id": "6797ec97c21142efbe35d53457df6cf1",
       "version_major": 2,
       "version_minor": 0
      },
      "text/plain": [
       "Label(value='Title Length: 0 characters')"
      ]
     },
     "metadata": {},
     "output_type": "display_data"
    },
    {
     "data": {
      "application/vnd.jupyter.widget-view+json": {
       "model_id": "16903d5df4cc45bea194937e1e80562a",
       "version_major": 2,
       "version_minor": 0
      },
      "text/plain": [
       "Textarea(value='', description='Description:', placeholder='Enter the description here')"
      ]
     },
     "metadata": {},
     "output_type": "display_data"
    },
    {
     "data": {
      "application/vnd.jupyter.widget-view+json": {
       "model_id": "9bf7250198984d61852d4ffdacff10bd",
       "version_major": 2,
       "version_minor": 0
      },
      "text/plain": [
       "Label(value='Description Length: 0 characters')"
      ]
     },
     "metadata": {},
     "output_type": "display_data"
    },
    {
     "data": {
      "application/vnd.jupyter.widget-view+json": {
       "model_id": "70eb52b6d07d4dcf959ed5ec98d3b9e7",
       "version_major": 2,
       "version_minor": 0
      },
      "text/plain": [
       "Text(value='', description='URL:', placeholder='Enter the URL here')"
      ]
     },
     "metadata": {},
     "output_type": "display_data"
    },
    {
     "data": {
      "application/vnd.jupyter.widget-view+json": {
       "model_id": "7e635cdfa1404ff286f05a844b44b0e1",
       "version_major": 2,
       "version_minor": 0
      },
      "text/plain": [
       "Button(description='Simulate SERP', style=ButtonStyle())"
      ]
     },
     "metadata": {},
     "output_type": "display_data"
    },
    {
     "data": {
      "application/vnd.jupyter.widget-view+json": {
       "model_id": "22480af1b1c64ddfbefe307b17657704",
       "version_major": 2,
       "version_minor": 0
      },
      "text/plain": [
       "Output()"
      ]
     },
     "metadata": {},
     "output_type": "display_data"
    }
   ],
   "source": [
    "import textwrap\n",
    "from IPython.display import display, HTML\n",
    "import ipywidgets as widgets\n",
    "\n",
    "def serp_simulator(title, description, url):\n",
    "    title_length = 60\n",
    "    description_length = 160\n",
    "\n",
    "    wrapped_title = textwrap.shorten(title, width=title_length, placeholder=\"...\")\n",
    "    wrapped_description = textwrap.shorten(description, width=description_length, placeholder=\"...\")\n",
    "\n",
    "    serp_html = f\"\"\"\n",
    "    <div style=\"font-family: Arial, sans-serif; margin: 20px; border: 1px solid #dfe1e5; border-radius: 8px; padding: 16px; width: 600px;\">\n",
    "        <div style=\"color: #1a0dab; font-size: 18px; font-weight: normal; text-decoration: none;\">{wrapped_title}</div>\n",
    "        <div style=\"color: #006621; font-size: 14px; margin-top: 4px;\">{url}</div>\n",
    "        <div style=\"color: #545454; font-size: 14px; margin-top: 8px;\">{wrapped_description}</div>\n",
    "    </div>\n",
    "    \"\"\"\n",
    "    display(HTML(serp_html))\n",
    "\n",
    "def on_title_change(change):\n",
    "    title_length_label.value = f\"Title Length: {len(title_input.value)} characters\"\n",
    "\n",
    "def on_description_change(change):\n",
    "    description_length_label.value = f\"Description Length: {len(description_input.value)} characters\"\n",
    "\n",
    "# Create the input widgets\n",
    "title_input = widgets.Text(\n",
    "    value='',\n",
    "    placeholder='Enter the title here',\n",
    "    description='Title:',\n",
    "    disabled=False\n",
    ")\n",
    "\n",
    "description_input = widgets.Textarea(\n",
    "    value='',\n",
    "    placeholder='Enter the description here',\n",
    "    description='Description:',\n",
    "    disabled=False\n",
    ")\n",
    "\n",
    "url_input = widgets.Text(\n",
    "    value='',\n",
    "    placeholder='Enter the URL here',\n",
    "    description='URL:',\n",
    "    disabled=False\n",
    ")\n",
    "\n",
    "button = widgets.Button(description=\"Simulate SERP\")\n",
    "output = widgets.Output()\n",
    "\n",
    "title_length_label = widgets.Label(value=\"Title Length: 0 characters\")\n",
    "description_length_label = widgets.Label(value=\"Description Length: 0 characters\")\n",
    "\n",
    "title_input.observe(on_title_change, names='value')\n",
    "description_input.observe(on_description_change, names='value')\n",
    "\n",
    "# Define what happens when the button is clicked\n",
    "def on_button_clicked(b):\n",
    "    with output:\n",
    "        output.clear_output()\n",
    "        serp_simulator(title_input.value, description_input.value, url_input.value)\n",
    "\n",
    "button.on_click(on_button_clicked)\n",
    "\n",
    "# Display the widgets\n",
    "display(title_input, title_length_label, description_input, description_length_label, url_input, button, output)\n"
   ]
  },
  {
   "cell_type": "code",
   "execution_count": null,
   "id": "f8e93af1",
   "metadata": {},
   "outputs": [],
   "source": []
  }
 ],
 "metadata": {
  "kernelspec": {
   "display_name": "Python 3 (ipykernel)",
   "language": "python",
   "name": "python3"
  },
  "language_info": {
   "codemirror_mode": {
    "name": "ipython",
    "version": 3
   },
   "file_extension": ".py",
   "mimetype": "text/x-python",
   "name": "python",
   "nbconvert_exporter": "python",
   "pygments_lexer": "ipython3",
   "version": "3.11.5"
  }
 },
 "nbformat": 4,
 "nbformat_minor": 5
}
